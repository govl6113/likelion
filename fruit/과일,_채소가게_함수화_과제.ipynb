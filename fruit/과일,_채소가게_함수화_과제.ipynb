{
  "nbformat": 4,
  "nbformat_minor": 0,
  "metadata": {
    "colab": {
      "name": "과일, 채소가게_함수화_과제",
      "provenance": [],
      "collapsed_sections": []
    },
    "kernelspec": {
      "name": "python3",
      "display_name": "Python 3"
    },
    "language_info": {
      "name": "python"
    }
  },
  "cells": [
    {
      "cell_type": "code",
      "metadata": {
        "colab": {
          "base_uri": "https://localhost:8080/"
        },
        "id": "cEkhKCpt4GvS",
        "outputId": "e05afa1c-c3ef-4fc9-ad2e-02811f718798"
      },
      "source": [
        "#과일 채소 가게 상품관리 프로그램 함수화 및 개발 로직 작성\n",
        "\n",
        "def WriteItem(comment):\n",
        "  val =input(comment)\n",
        "  return val\n",
        "\n",
        "def ExistItem(name):                \n",
        "  if name in vegitable:                \n",
        "    print(\"이미 등록된 채소입니다.\")   \n",
        "    return False         \n",
        "  elif name in fruit:                    \n",
        "     print(\"이미 등록된 과일입니다.\")\n",
        "     return False     \n",
        "  else:                                \n",
        "    return True\n",
        "\n",
        "def GetShowList(list):\n",
        "  print(list)\n",
        "\n",
        "def AddNew():\n",
        "  cate = WriteItem(\"등록할 카테고리를 선택해주세요 : (과일, 채소)\")\n",
        "  name = WriteItem(\"등록할 상품명을 입력하세요 : \")\n",
        "  if(ExistItem(name)==True):\n",
        "    if cate=='과일':\n",
        "      fruit.append(name)\n",
        "      GetShowList(fruit)\n",
        "      GetShowList(vegitable)\n",
        "    elif cate =='채소':\n",
        "      vegitable.append(name)\n",
        "      GetShowList(fruit)\n",
        "      GetShowList(vegitable)\n",
        "    else :\n",
        "      print(\"존재하지 않는 카테고리입니다.\")\n",
        "    \n",
        "\n",
        "fruit=['사과','딸기','귤','수박','파인애플']\n",
        "vegitable=['당근','피망','오이','양상추','브로콜리']\n",
        "\n",
        "AddNew()\n",
        "\n",
        "\n",
        "\n"
      ],
      "execution_count": 3,
      "outputs": [
        {
          "output_type": "stream",
          "text": [
            "등록할 카테고리를 선택해주세요 : (과일, 채소)채소\n",
            "등록할 상품명을 입력하세요 : 오이\n",
            "이미 등록된 채소입니다.\n"
          ],
          "name": "stdout"
        }
      ]
    }
  ]
}