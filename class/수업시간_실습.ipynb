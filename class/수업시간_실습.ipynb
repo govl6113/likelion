{
  "nbformat": 4,
  "nbformat_minor": 0,
  "metadata": {
    "colab": {
      "name": "수업시간 실습",
      "provenance": [],
      "collapsed_sections": []
    },
    "kernelspec": {
      "name": "python3",
      "display_name": "Python 3"
    },
    "language_info": {
      "name": "python"
    }
  },
  "cells": [
    {
      "cell_type": "code",
      "metadata": {
        "colab": {
          "base_uri": "https://localhost:8080/"
        },
        "id": "ZTsL8a3t40aR",
        "outputId": "65dae0c8-3720-4f34-9459-837187226361"
      },
      "source": [
        "print('hi')"
      ],
      "execution_count": null,
      "outputs": [
        {
          "output_type": "stream",
          "text": [
            "hi\n"
          ],
          "name": "stdout"
        }
      ]
    },
    {
      "cell_type": "code",
      "metadata": {
        "id": "E-E73WS-5MAi"
      },
      "source": [
        "a=1\n",
        "print(a)"
      ],
      "execution_count": null,
      "outputs": []
    },
    {
      "cell_type": "code",
      "metadata": {
        "colab": {
          "base_uri": "https://localhost:8080/"
        },
        "id": "AbmV-u3e5MPD",
        "outputId": "ea58927b-e6fe-461d-9145-ec94ada5bab8"
      },
      "source": [
        "print(123)\n",
        "x=12\n",
        "print(x)"
      ],
      "execution_count": null,
      "outputs": [
        {
          "output_type": "stream",
          "text": [
            "123\n",
            "12\n"
          ],
          "name": "stdout"
        }
      ]
    },
    {
      "cell_type": "code",
      "metadata": {
        "id": "eAC5Y6-I6CTd"
      },
      "source": [
        "#주석처리~~"
      ],
      "execution_count": null,
      "outputs": []
    },
    {
      "cell_type": "code",
      "metadata": {
        "colab": {
          "base_uri": "https://localhost:8080/"
        },
        "id": "kvvFTUjq6M0L",
        "outputId": "634aff3c-6338-4242-cf5f-739c54a55d34"
      },
      "source": [
        "print(5+7)\n",
        "print(3**2) #제곱\n",
        "print(8/3)\n",
        "print(8//3) #나눗셈결과 중 몫부분만"
      ],
      "execution_count": null,
      "outputs": [
        {
          "output_type": "stream",
          "text": [
            "12\n",
            "9\n",
            "2\n",
            "2.6666666666666665\n"
          ],
          "name": "stdout"
        }
      ]
    },
    {
      "cell_type": "code",
      "metadata": {
        "colab": {
          "base_uri": "https://localhost:8080/"
        },
        "id": "6N1B8Rcm7WHO",
        "outputId": "077d8d6d-6eca-4ade-c2bb-ccc4c311ef18"
      },
      "source": [
        "str=\"멋쟁이 사자처럼 사랑해요\"\n",
        "print(len(str))\n",
        "print(str.count('사')) #특정문자 등장횟수\n",
        "print(str.split())\n",
        "print(str.split('처')) #처는 사라짐\n",
        "print(str.find('사'))  #특정문자 인덱스찾기\n",
        "print(str.index('해')) #특정문자 인덱스찾기"
      ],
      "execution_count": null,
      "outputs": [
        {
          "output_type": "stream",
          "text": [
            "13\n",
            "2\n",
            "['멋쟁이', '사자처럼', '사랑해요']\n",
            "['멋쟁이 사자', '럼 사랑해요']\n",
            "4\n",
            "11\n"
          ],
          "name": "stdout"
        }
      ]
    },
    {
      "cell_type": "code",
      "metadata": {
        "colab": {
          "base_uri": "https://localhost:8080/"
        },
        "id": "0_kuaX958Uoj",
        "outputId": "2f77d891-e1c0-4d1a-c5b7-dea9d38fe29b"
      },
      "source": [
        "number=int(input(\"숫자를 입력하세요: \"))\n",
        "print(number+3)"
      ],
      "execution_count": null,
      "outputs": [
        {
          "output_type": "stream",
          "text": [
            "숫자를 입력하세요: 354\n",
            "357\n"
          ],
          "name": "stdout"
        }
      ]
    },
    {
      "cell_type": "code",
      "metadata": {
        "colab": {
          "base_uri": "https://localhost:8080/"
        },
        "id": "E8S5UgXl884J",
        "outputId": "82277dfe-1caa-4481-a883-94aa0c26e86f"
      },
      "source": [
        "a=[1,3,5,6,7,8]\n",
        "print(a)"
      ],
      "execution_count": null,
      "outputs": [
        {
          "output_type": "stream",
          "text": [
            "[1, 3, 5, 6, 7, 8]\n"
          ],
          "name": "stdout"
        }
      ]
    },
    {
      "cell_type": "code",
      "metadata": {
        "id": "QEzWcMKb9JyJ"
      },
      "source": [
        "t1=()\n",
        "t2=(1,)\n",
        "t3=(1,2,3)\n",
        "t4=1,2,3\n",
        "t5=('a','b',('ab','cd'))\n"
      ],
      "execution_count": null,
      "outputs": []
    },
    {
      "cell_type": "code",
      "metadata": {
        "colab": {
          "base_uri": "https://localhost:8080/",
          "height": 52
        },
        "id": "fD4cwEi09xP3",
        "outputId": "c91a4ec4-a16b-4dff-ac0a-9894f92c301b"
      },
      "source": [
        "dic={'name':'JH','ph':'01077606113','birth':'0409'}\n",
        "dic['name']\n",
        "dic['birth']\n",
        "del(dic['name'])\n",
        "print(dic)\n",
        "dic.get('ph')"
      ],
      "execution_count": null,
      "outputs": [
        {
          "output_type": "stream",
          "text": [
            "{'ph': '01077606113', 'birth': '0409'}\n"
          ],
          "name": "stdout"
        },
        {
          "output_type": "execute_result",
          "data": {
            "application/vnd.google.colaboratory.intrinsic+json": {
              "type": "string"
            },
            "text/plain": [
              "'01077606113'"
            ]
          },
          "metadata": {
            "tags": []
          },
          "execution_count": 22
        }
      ]
    },
    {
      "cell_type": "code",
      "metadata": {
        "colab": {
          "base_uri": "https://localhost:8080/"
        },
        "id": "4aEJhhZmEJeZ",
        "outputId": "d2a39267-0b2d-4f14-e805-9d9ece705e85"
      },
      "source": [
        "score=int(input(\"점수를 입력해주세요:\"))\n",
        "if(score>=85):\n",
        "  print(\"pass\")\n",
        "else:\n",
        "  print(\"fail\")"
      ],
      "execution_count": null,
      "outputs": [
        {
          "output_type": "stream",
          "text": [
            "점수를 입력해주세요:34\n",
            "fail\n"
          ],
          "name": "stdout"
        }
      ]
    },
    {
      "cell_type": "code",
      "metadata": {
        "colab": {
          "base_uri": "https://localhost:8080/"
        },
        "id": "hW4yjrWX_ejL",
        "outputId": "5abc2642-5944-4762-b204-6dde4d764ae2"
      },
      "source": [
        "money=True\n",
        "if (money==True):\n",
        "  print('택시타기')\n",
        "else:\n",
        "  print(\"버스타기\")"
      ],
      "execution_count": null,
      "outputs": [
        {
          "output_type": "stream",
          "text": [
            "택시타기\n"
          ],
          "name": "stdout"
        }
      ]
    },
    {
      "cell_type": "code",
      "metadata": {
        "colab": {
          "base_uri": "https://localhost:8080/"
        },
        "id": "ynv43vJx_xF5",
        "outputId": "f4f98243-0988-41e6-a3c1-a0e3ba989fd5"
      },
      "source": [
        "activity=input(\"요즘 하는 동아리는?\")\n",
        "if(activity==\"멋쟁이 사자처럼\"):\n",
        "  print(\"멋사짱~\")\n",
        "else:\n",
        "  print(\"악...그랭ㅂ...\")"
      ],
      "execution_count": null,
      "outputs": [
        {
          "output_type": "stream",
          "text": [
            "요즘 하는 동아리는?\n",
            "악...그랭ㅂ...\n"
          ],
          "name": "stdout"
        }
      ]
    },
    {
      "cell_type": "code",
      "metadata": {
        "colab": {
          "base_uri": "https://localhost:8080/"
        },
        "id": "TTfj5kQBAyZk",
        "outputId": "bea7c897-f4a9-4870-ecba-32c4a2fd0a8e"
      },
      "source": [
        "money=int(input(\"얼마 가지고 있나요?\"))\n",
        "if(money>=50000):\n",
        "  print('서가앤쿡가장')\n",
        "else :\n",
        "  if(money>=30000):\n",
        "    print('내찜닭가좌링')\n",
        "  else:\n",
        "    if(money>=1000):\n",
        "      print('김밥고고')\n",
        "    else:\n",
        "      print('저녁은 없어.....')"
      ],
      "execution_count": null,
      "outputs": [
        {
          "output_type": "stream",
          "text": [
            "얼마 가지고 있나요?2000\n",
            "김밥고고\n"
          ],
          "name": "stdout"
        }
      ]
    },
    {
      "cell_type": "code",
      "metadata": {
        "colab": {
          "base_uri": "https://localhost:8080/"
        },
        "id": "e5aO9STUCJVx",
        "outputId": "72d153cc-91d3-4de5-c9df-0eb99a3d313f"
      },
      "source": [
        "for i in range(5):\n",
        "  print('hi')"
      ],
      "execution_count": null,
      "outputs": [
        {
          "output_type": "stream",
          "text": [
            "hi\n",
            "hi\n",
            "hi\n",
            "hi\n",
            "hi\n"
          ],
          "name": "stdout"
        }
      ]
    },
    {
      "cell_type": "code",
      "metadata": {
        "colab": {
          "base_uri": "https://localhost:8080/"
        },
        "id": "IdyzmS5fFGE7",
        "outputId": "b939bed3-27a0-4327-f3f9-989b322d34be"
      },
      "source": [
        "#시험 점수 자동 체점 프로그램 \n",
        "cut=65\n",
        "maximum=100\n",
        "minimum=0\n",
        "\n",
        "#시험 점수 입력받기\n",
        "num1=int(input(\"창사코 : \"))\n",
        "num2=int(input(\"선형대수 : \"))\n",
        "num3=int(input(\"컴퓨터공학 : \"))\n",
        "\n",
        "#점수 확인 \n",
        "print('num1 : ',num1,'num2 : ',num2,'num3 : ',num3)\n",
        "\n",
        "\n",
        "if(num1>maximum or num2>maximum or num3>maximum):    #만약 num1,2,3이 maximum값보다 크면 잘못된 점수가 입력되었다고 출력.\n",
        "  print('잘못된 점수가 입력되었습니다.')\n",
        "elif(num1<minimum or num2<minimum or num3<minimum):  #만약 num1,2,3이 maximum값보다 크거나 minimum값보다 작다면 잘못된 점수가 입력되었다고 출력.\n",
        "  print('잘못된 점수가 입력되었습니다.')\n",
        "elif(num1>cut and num2 > cut and num3>cut):           #만약 num1,2,3의 범위가 잘 맞는데 cut을 넘겼으면 합격을 출력.\n",
        "  print('합격입니다')\n",
        "else:                                                 #만약 num1,2,3의 범위가 잘 맞는데 cut을 못 넘겼으면 불합격을 출력.\n",
        "  print('불합격입니다')"
      ],
      "execution_count": null,
      "outputs": [
        {
          "output_type": "stream",
          "text": [
            "창사코 : 90\n",
            "선형대수 : 90\n",
            "컴퓨터공학 : 100\n",
            "90 90 100\n",
            "합격입니다 90\n"
          ],
          "name": "stdout"
        }
      ]
    },
    {
      "cell_type": "code",
      "metadata": {
        "colab": {
          "base_uri": "https://localhost:8080/"
        },
        "id": "5ltaxOCLG9jA",
        "outputId": "240c12fa-7073-42c1-c08b-b8d269c731de"
      },
      "source": [
        "#유저 DB 갱신 프로그램\n",
        "\n",
        "#dict 만들기 \n",
        "dicUser={}\n",
        "\n",
        "#사용자에게 입력을 받는 함수만들기\n",
        "def userinfo(comment):\n",
        "  val =input(comment)\n",
        "  return val\n",
        "\n",
        "#userinfo함수를 이용해 입력받은 값을 변수에 할당\n",
        "name=userinfo('이름 : ')\n",
        "age=userinfo('나이 : ')\n",
        "ph=userinfo(\"핸드폰 번호 : \")\n",
        "\n",
        "#dicUser딕셔너리에 update를 사용해 원소 하나씩 넣기 \n",
        "dicUser.update({'name':name})\n",
        "dicUser.update({'age':age})\n",
        "dicUser.update({'ph':ph})\n",
        "\n",
        "#dicUser 출력하기\n",
        "print(dicUser)\n"
      ],
      "execution_count": null,
      "outputs": [
        {
          "output_type": "stream",
          "text": [
            "이름 : 20\n",
            "나이 : re\n",
            "핸드폰 번호 : 20\n",
            "{'name': '20', 'age': 're', 'ph': '20'}\n"
          ],
          "name": "stdout"
        }
      ]
    },
    {
      "cell_type": "code",
      "metadata": {
        "colab": {
          "base_uri": "https://localhost:8080/"
        },
        "id": "K0-xcZUBMAOd",
        "outputId": "dcda5816-f0fa-4a88-ffe1-3aed5c487ad3"
      },
      "source": [
        "#과일 채소 프로그램\n",
        "#fruit와 vegitable list생성\n",
        "fruit=['사과','딸기','귤','수박','파인애플']\n",
        "vegitable=['당근','피망','오이','양상추','브로콜리']\n",
        "\n",
        "#category와 name을 입력받는다. \n",
        "cate=input(\"등록할 카테고리를 선택해주세요 : (과일, 채소)\")\n",
        "name=input(\"등록할 상품명을 입력하세요 : \")\n",
        "\n",
        "if(cate=='채소'):                   #만약 cate가 채소면 \n",
        "  if name in vegitable:                #만약 vegi list속에 name이 존재한다면\n",
        "    print(\"이미 등록된 채소입니다.\")      #이미 등록됐음을 출력\n",
        "  else:                                #vegi 속에 name이 없다면 \n",
        "    vegitable.append(name)                #vegi list에 name을 추가한다.\n",
        "elif(cate=='과일'):                 #만약 cate가 과일이라면\n",
        "  if name in fruit:                    #만약 fruit list 속에 name이 존재한다면\n",
        "    print(\"이미 등록된 과일입니다.\")      #이미 등록됐음을 출력\n",
        "  else:                                #fruit 속에 name이 없다면\n",
        "      fruit.append(name)                  #fruit list에 name을 추가한다.\n",
        "else:                                #만약 cate가 과일과 채소가 아니라면\n",
        "  print(\"존재하지 않는 카테고리입니다.\")    #존재하지 않는 카테고리임을 출력.\n",
        "\n",
        "#fruit와 vegi list를 출력한다. \n",
        "print('fruit : ',fruit)\n",
        "print('vegitable : ',vegitable)"
      ],
      "execution_count": null,
      "outputs": [
        {
          "output_type": "stream",
          "text": [
            "등록할 카테고리를 선택해주세요 : (과일, 채소)채소\n",
            "등록할 상품명을 입력하세요 : 과일\n",
            "fruit :  ['사과', '딸기', '귤', '수박', '파인애플']\n",
            "vegitable :  ['당근', '피망', '오이', '양상추', '브로콜리', '과일']\n"
          ],
          "name": "stdout"
        }
      ]
    }
  ]
}